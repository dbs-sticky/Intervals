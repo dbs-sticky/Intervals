{
 "cells": [
  {
   "cell_type": "markdown",
   "metadata": {},
   "source": [
    "Use this Excel file \"test-data-generator.xlsx\" to create a random set of aircraft which has 3 maintenance events each, all at ~36 month intervals. Copy the results to a file titled \"test.xlsx"
   ]
  },
  {
   "cell_type": "code",
   "execution_count": 358,
   "metadata": {},
   "outputs": [
    {
     "data": {
      "text/html": [
       "<div>\n",
       "<style scoped>\n",
       "    .dataframe tbody tr th:only-of-type {\n",
       "        vertical-align: middle;\n",
       "    }\n",
       "\n",
       "    .dataframe tbody tr th {\n",
       "        vertical-align: top;\n",
       "    }\n",
       "\n",
       "    .dataframe thead th {\n",
       "        text-align: right;\n",
       "    }\n",
       "</style>\n",
       "<table border=\"1\" class=\"dataframe\">\n",
       "  <thead>\n",
       "    <tr style=\"text-align: right;\">\n",
       "      <th></th>\n",
       "      <th>Aircraft</th>\n",
       "      <th>Date</th>\n",
       "    </tr>\n",
       "  </thead>\n",
       "  <tbody>\n",
       "    <tr>\n",
       "      <th>0</th>\n",
       "      <td>1</td>\n",
       "      <td>2026-11-01</td>\n",
       "    </tr>\n",
       "    <tr>\n",
       "      <th>1</th>\n",
       "      <td>1</td>\n",
       "      <td>2029-12-01</td>\n",
       "    </tr>\n",
       "    <tr>\n",
       "      <th>2</th>\n",
       "      <td>2</td>\n",
       "      <td>2024-01-01</td>\n",
       "    </tr>\n",
       "    <tr>\n",
       "      <th>3</th>\n",
       "      <td>2</td>\n",
       "      <td>2027-03-01</td>\n",
       "    </tr>\n",
       "    <tr>\n",
       "      <th>4</th>\n",
       "      <td>2</td>\n",
       "      <td>2030-05-01</td>\n",
       "    </tr>\n",
       "    <tr>\n",
       "      <th>...</th>\n",
       "      <td>...</td>\n",
       "      <td>...</td>\n",
       "    </tr>\n",
       "    <tr>\n",
       "      <th>120</th>\n",
       "      <td>41</td>\n",
       "      <td>2026-12-01</td>\n",
       "    </tr>\n",
       "    <tr>\n",
       "      <th>121</th>\n",
       "      <td>41</td>\n",
       "      <td>2029-12-01</td>\n",
       "    </tr>\n",
       "    <tr>\n",
       "      <th>122</th>\n",
       "      <td>42</td>\n",
       "      <td>2024-01-01</td>\n",
       "    </tr>\n",
       "    <tr>\n",
       "      <th>123</th>\n",
       "      <td>42</td>\n",
       "      <td>2026-09-01</td>\n",
       "    </tr>\n",
       "    <tr>\n",
       "      <th>124</th>\n",
       "      <td>42</td>\n",
       "      <td>2029-08-01</td>\n",
       "    </tr>\n",
       "  </tbody>\n",
       "</table>\n",
       "<p>125 rows × 2 columns</p>\n",
       "</div>"
      ],
      "text/plain": [
       "     Aircraft       Date\n",
       "0           1 2026-11-01\n",
       "1           1 2029-12-01\n",
       "2           2 2024-01-01\n",
       "3           2 2027-03-01\n",
       "4           2 2030-05-01\n",
       "..        ...        ...\n",
       "120        41 2026-12-01\n",
       "121        41 2029-12-01\n",
       "122        42 2024-01-01\n",
       "123        42 2026-09-01\n",
       "124        42 2029-08-01\n",
       "\n",
       "[125 rows x 2 columns]"
      ]
     },
     "execution_count": 358,
     "metadata": {},
     "output_type": "execute_result"
    }
   ],
   "source": [
    "df = pd.read_excel('test.xlsx', names=['Aircraft', 'Date'])  # Read the excel file into a pandas DataFrame and rename the columns\n",
    "df\n",
    "\n"
   ]
  },
  {
   "cell_type": "markdown",
   "metadata": {},
   "source": [
    "### Create Maintenance events summary metrics to help sense check source data\n"
   ]
  },
  {
   "cell_type": "code",
   "execution_count": 359,
   "metadata": {},
   "outputs": [
    {
     "name": "stdout",
     "output_type": "stream",
     "text": [
      "Dataset contains: 42 unique aircraft\n",
      "Dataset date range: 2024-01-01 – 2030-06-01 (6.4 years)\n"
     ]
    }
   ],
   "source": [
    "# Create some summary metrics\n",
    "num_unique_aircraft = df['Aircraft'].nunique()  # Count the number of unique aircraft\n",
    "print(f\"Dataset contains: {num_unique_aircraft} unique aircraft\")  # Print the number of unique aircraft\n",
    "\n",
    "# Convert datetime to just date, removing time and find the min and max date\n",
    "min_date, max_date = df['Date'].dt.date.agg(['min', 'max'])\n",
    "\n",
    "# Calculate the number of years between min_date and max_date\n",
    "num_years = (max_date - min_date).days / 365\n",
    "\n",
    "print(f\"Dataset date range: {min_date} – {max_date} ({num_years:.1f} years)\")  # Print the date range\n"
   ]
  },
  {
   "cell_type": "markdown",
   "metadata": {},
   "source": [
    "### Calculate Inspection Intervals from Maintenance Events"
   ]
  },
  {
   "cell_type": "code",
   "execution_count": 360,
   "metadata": {},
   "outputs": [
    {
     "name": "stdout",
     "output_type": "stream",
     "text": [
      "The mean time between maintenance events is 36.12 months.\n",
      "The mode time between maintenance events is 36.53 months.\n"
     ]
    }
   ],
   "source": [
    "# Convert the data to a DataFrame for easier manipulation\n",
    "df = pd.DataFrame(df)\n",
    "\n",
    "# Calculate the difference between consecutive dates for each aircraft\n",
    "df['Difference'] = df.groupby('Aircraft')['Date'].diff()\n",
    "\n",
    "# Convert the difference to months\n",
    "df['Difference_in_Months'] = df['Difference'].dt.days / 30\n",
    "\n",
    "# Calculate the mean and mode difference\n",
    "mean_difference_in_months = round(df['Difference_in_Months'].mean(), 2)\n",
    "print(f\"The mean time between maintenance events is {mean_difference_in_months} months.\")\n",
    "\n",
    "mode_difference_in_months = round(df['Difference_in_Months'].mode()[0], 2)\n",
    "print(f\"The mode time between maintenance events is {mode_difference_in_months} months.\")"
   ]
  },
  {
   "cell_type": "code",
   "execution_count": 361,
   "metadata": {},
   "outputs": [
    {
     "data": {
      "image/png": "[encoded data removed]",
      "text/plain": [
       "<Figure size 640x480 with 1 Axes>"
      ]
     },
     "metadata": {},
     "output_type": "display_data"
    }
   ],
   "source": [
    "import matplotlib.pyplot as plt  # Importing matplotlib library for plotting\n",
    "\n",
    "# Plotting a histogram of the difference in months between maintenance events\n",
    "df['Difference_in_Months'].dropna().hist(bins=range(int(df['Difference_in_Months'].min()-5), int(df['Difference_in_Months'].max()+5)+2), grid=False, color='blue')  # Creating a histogram\n",
    "plt.title(\"Frequency of Inspections Intervals (months)\")  # Setting the title of the plot\n",
    "plt.xlabel(\"Months\")  # Setting the x-label of the plot\n",
    "plt.ylabel(\"Frequency\")  # Setting the y-label of the plot\n",
    "ax = plt.gca()  # Getting the current axes\n",
    "ax.set_frame_on(False)  # Removing the frame\n",
    "plt.show()  # Displaying the plot\n"
   ]
  }
 ],
 "metadata": {
  "kernelspec": {
   "display_name": "Python 3",
   "language": "python",
   "name": "python3"
  },
  "language_info": {
   "codemirror_mode": {
    "name": "ipython",
    "version": 3
   },
   "file_extension": ".py",
   "mimetype": "text/x-python",
   "name": "python",
   "nbconvert_exporter": "python",
   "pygments_lexer": "ipython3",
   "version": "3.12.2"
  }
 },
 "nbformat": 4,
 "nbformat_minor": 2
}
